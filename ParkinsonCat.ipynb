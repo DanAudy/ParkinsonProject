{
 "cells": [
  {
   "cell_type": "code",
   "execution_count": 1,
   "metadata": {},
   "outputs": [],
   "source": [
    "import cv2\n",
    "import os\n",
    "import numpy as np\n",
    "from matplotlib import pyplot as plt\n",
    "import pickle"
   ]
  },
  {
   "cell_type": "code",
   "execution_count": 2,
   "metadata": {},
   "outputs": [],
   "source": [
    "groups = ['healthy', 'parkinson']\n",
    "categories = ['testing','training']\n",
    "im_types = ['spiral','wave']\n",
    "\n",
    "\n",
    "cwd = os.getcwd()\n",
    "\n",
    "base_dir = os.path.join(cwd, 'parkinsons-drawings')\n",
    "\n",
    "# Walk through the image directory\n",
    "# Read in images as grayscale and resave\n",
    "for root, dirs, files in os.walk(base_dir):\n",
    "    for name in files:\n",
    "        image = cv2.imread(os.path.join(root, name), 0)\n",
    "        cv2.imwrite(os.path.join(root,name), image)"
   ]
  },
  {
   "cell_type": "code",
   "execution_count": 3,
   "metadata": {},
   "outputs": [],
   "source": [
    "\n",
    "# Walk through image directory\n",
    "# Rescale all spiral drawings to 256x256 and all wave to 256x128 for \n",
    "# consistent size to be used as features\n",
    "for im_type in im_types:\n",
    "    direc = os.path.join(base_dir, im_type)\n",
    "    if im_type == 'spiral':\n",
    "        imsize = (256,256)\n",
    "    else:\n",
    "        imsize = (256,128)\n",
    "    for root, dirs, files in os.walk(direc):\n",
    "        for name in files:\n",
    "            image = cv2.imread(os.path.join(root,name),0)\n",
    "            resized = cv2.resize(image, imsize)\n",
    "            cv2.imwrite(os.path.join(root,name), resized)\n",
    "            "
   ]
  },
  {
   "cell_type": "code",
   "execution_count": 4,
   "metadata": {},
   "outputs": [],
   "source": [
    "\n",
    "def pickleData():\n",
    "    \n",
    "    # Create lists of dictionaries for each image type\n",
    "    spiral_training = []\n",
    "    direc = os.path.join(base_dir, 'spiral', 'training')\n",
    "\n",
    "    for root, dirs, files in os.walk(direc, followlinks=False):\n",
    "        for name in files:\n",
    "            image = cv2.imread(os.path.join(root,name),0)\n",
    "            label = name[3]\n",
    "            tdict = {'Desc': 'Spiral', 'Label': label, 'Image': image}\n",
    "            spiral_training.append(tdict)\n",
    "    \n",
    "    spiral_testing = []\n",
    "    direc = os.path.join(base_dir, 'spiral', 'testing')\n",
    "\n",
    "    for root, dirs, files in os.walk(direc, followlinks=False):\n",
    "        for name in files:\n",
    "            image = cv2.imread(os.path.join(root,name),0)\n",
    "            label = name[3]\n",
    "            tdict = {'Desc': 'Spiral', 'Label': label, 'Image': image}\n",
    "            spiral_testing.append(tdict)  \n",
    "\n",
    "    wave_training = []\n",
    "    direc = os.path.join(base_dir, 'wave', 'training')\n",
    "\n",
    "    for root, dirs, files in os.walk(direc, followlinks=False):\n",
    "        for name in files:\n",
    "            image = cv2.imread(os.path.join(root,name),0)\n",
    "            label = name[3]\n",
    "            tdict = {'Desc': 'Wave', 'Label': label, 'Image': image}\n",
    "            wave_training.append(tdict)   \n",
    "        \n",
    "    wave_testing = []\n",
    "    direc = os.path.join(base_dir, 'wave', 'testing')\n",
    "\n",
    "    for root, dirs, files in os.walk(direc, followlinks=False):\n",
    "        for name in files:\n",
    "            image = cv2.imread(os.path.join(root,name),0)\n",
    "            label = name[3]\n",
    "            tdict = {'Desc': 'Wave', 'Label': label, 'Image': image}\n",
    "            wave_testing.append(tdict)    \n",
    "\n",
    "    # Pickle datasets\n",
    "    pickle.dump(spiral_training, open('spiral_training.p','wb'))\n",
    "    pickle.dump(spiral_testing, open('spiral_testing.p','wb'))\n",
    "    pickle.dump(wave_training, open('wave_training.p','wb'))\n",
    "    pickle.dump(wave_testing, open('wave_testing.p','wb'))\n",
    "\n",
    "    \n",
    "def unpickleData():\n",
    "    spiral_training = pickle.load(open('spiral_training.p','rb'))\n",
    "    spiral_testing = pickle.load(open('spiral_testing.p','rb'))\n",
    "    wave_training = pickle.load(open('wave_training.p','rb'))\n",
    "    wave_testing = pickle.load(open('wave_testing.p','rb'))\n",
    "    return spiral_training, spiral_testing, wave_training, wave_testing"
   ]
  },
  {
   "cell_type": "code",
   "execution_count": 5,
   "metadata": {},
   "outputs": [],
   "source": [
    "#pickleData()\n",
    "spiral_training, spiral_testing, wave_training, wave_testing = unpickleData()\n"
   ]
  },
  {
   "cell_type": "code",
   "execution_count": 6,
   "metadata": {},
   "outputs": [],
   "source": [
    "def extractXy(mylist):\n",
    "    X = []\n",
    "    y = []\n",
    "    for entry in mylist:\n",
    "        X.append(entry.get(\"Image\"))\n",
    "        y.append(entry.get(\"Label\"))\n",
    "    return np.array(X), np.array(y)"
   ]
  },
  {
   "cell_type": "code",
   "execution_count": 7,
   "metadata": {},
   "outputs": [],
   "source": [
    "Xspiral, yspiral = extractXy(spiral_training)\n",
    "#print(yspiral)\n",
    "#print(Xspiral[0])"
   ]
  },
  {
   "cell_type": "code",
   "execution_count": 8,
   "metadata": {},
   "outputs": [],
   "source": [
    "from skimage.feature import hog\n",
    "from sklearn.base import BaseEstimator, TransformerMixin\n",
    "from sklearn.preprocessing import StandardScaler\n",
    "\n",
    "\n",
    "# HogTransformer from https://kapernikov.com/tutorial-image-classification-with-scikit-learn/\n",
    "class HogTransformer(BaseEstimator, TransformerMixin):\n",
    "    def __init__(self, y=None, orientations=9,\n",
    "                pixels_per_cell=(16,16),\n",
    "                cells_per_block=(3,3),\n",
    "                block_norm = 'L2-Hys'):\n",
    "        self.y = y\n",
    "        self.orientations = orientations\n",
    "        self.pixels_per_cell = pixels_per_cell\n",
    "        self.cells_per_block = cells_per_block\n",
    "        self.block_norm = block_norm\n",
    "        \n",
    "    def fit(self, X, y=None):\n",
    "        return self\n",
    "    \n",
    "    def transform(self, X, y=None):\n",
    "        \n",
    "        def local_hog(X):\n",
    "            return hog(X,\n",
    "                      orientations = self.orientations,\n",
    "                      pixels_per_cell = self.pixels_per_cell,\n",
    "                      cells_per_block = self.cells_per_block,\n",
    "                      block_norm = self.block_norm,\n",
    "                      feature_vector=True)\n",
    "        try:\n",
    "            return np.array([local_hog(img) for img in X])\n",
    "        except:\n",
    "            return np.array([local_hog(img) for img in X])\n",
    "    \n",
    "    \n",
    "hogify = HogTransformer(pixels_per_cell=(8,8),\n",
    "                        cells_per_block=(1,1),\n",
    "                        orientations=9, \n",
    "                        block_norm='L2-Hys')\n",
    "scalify = StandardScaler()\n",
    "\n",
    "Xspiral_hog = hogify.fit_transform(Xspiral)\n",
    "Xspiral_prepared = scalify.fit_transform(Xspiral_hog)"
   ]
  },
  {
   "cell_type": "code",
   "execution_count": 30,
   "metadata": {
    "scrolled": true
   },
   "outputs": [
    {
     "name": "stdout",
     "output_type": "stream",
     "text": [
      "[1, 1, 1, 1, 1, 1, 1, 1, 1, 1, 1, 1, 1, 1, 1, 1, 1, 1, 1, 1, 1, 1, 1, 1, 1, 1, 1, 1, 1, 1, 1, 1, 1, 1, 1, 1, 0, 0, 0, 0, 0, 0, 0, 0, 0, 0, 0, 0, 0, 0, 0, 0, 0, 0, 0, 0, 0, 0, 0, 0, 0, 0, 0, 0, 0, 0, 0, 0, 0, 0, 0, 0]\n",
      "[0 0 0 1 0 0 1 1 1 1 1 1 1 1 1 0 0 0 0 0 0 0 0 1 1 1 1 0 0 0]\n",
      "[False False False  True False False  True  True  True  True  True  True\n",
      "  True  True  True  True  True  True  True  True  True  True  True False\n",
      " False False False  True  True  True]\n",
      "Accuracy:  0.7\n"
     ]
    }
   ],
   "source": [
    "from sklearn.pipeline import Pipeline\n",
    "from sklearn import svm\n",
    "from sklearn.linear_model import SGDClassifier\n",
    "\n",
    "yspiral = [1 if (x == 'H' or x == 1) else 0 for x in yspiral]\n",
    "print(yspiral)\n",
    "\n",
    "SGDpipeline = Pipeline([\n",
    "    ('hogify', HogTransformer(pixels_per_cell=(8,8),\n",
    "                        cells_per_block=(1,1),\n",
    "                        orientations=9, \n",
    "                        block_norm='L2-Hys')\n",
    "    ),\n",
    "    ('scalify', StandardScaler()),\n",
    "    ('classify', SGDClassifier(random_state=42, max_iter=1000, tol= 1e-3))\n",
    "])\n",
    "\n",
    "clf = SGDpipeline.fit(Xspiral, yspiral)\n",
    "\n",
    "Xspiraltest, yspiraltest = extractXy(spiral_testing)\n",
    "\n",
    "yspiraltest = [1 if (x == 'H' or x == 1) else 0 for x in yspiraltest]\n",
    "\n",
    "yspiralpred = clf.predict(Xspiraltest)\n",
    "print(yspiralpred)\n",
    "\n",
    "print(np.array(yspiralpred == yspiraltest))\n",
    "print('Accuracy: ', np.sum(yspiralpred == yspiraltest)/len(yspiraltest))"
   ]
  },
  {
   "cell_type": "code",
   "execution_count": 60,
   "metadata": {},
   "outputs": [
    {
     "name": "stdout",
     "output_type": "stream",
     "text": [
      "Fitting 3 folds for each of 49 candidates, totalling 147 fits\n"
     ]
    },
    {
     "name": "stderr",
     "output_type": "stream",
     "text": [
      "[Parallel(n_jobs=-1)]: Using backend LokyBackend with 4 concurrent workers.\n",
      "[Parallel(n_jobs=-1)]: Done  42 tasks      | elapsed:   40.5s\n",
      "[Parallel(n_jobs=-1)]: Done 147 out of 147 | elapsed:  2.2min finished\n"
     ]
    }
   ],
   "source": [
    "from sklearn.model_selection import GridSearchCV\n",
    "'''\n",
    "param_grid = [\n",
    "    {'hogify__orientations': [9],\n",
    "    'hogify__cells_per_block': [(1,1),(2,2),(3,3)],\n",
    "    'hogify__pixels_per_cell': [(6,6),(8,8),(12,12),(16,16),(20,20)],\n",
    "    'classify': [\n",
    "        SGDClassifier(random_state=42, max_iter=1000, tol= 1e-3, alpha=0.000085),\n",
    "        SGDClassifier(random_state=42, max_iter=1000, tol= 1e-3, alpha=0.00009),\n",
    "        SGDClassifier(random_state=42, max_iter=1000, tol= 1e-3, alpha=0.000095),\n",
    "        SGDClassifier(random_state=42, max_iter=1000, tol= 1e-3, alpha=0.0001),\n",
    "        SGDClassifier(random_state=42, max_iter=1000, tol= 1e-3, alpha=0.0008),\n",
    "\n",
    "        svm.SVC(kernel='linear'),\n",
    "        svm.SVC(kernel='rbf')]}\n",
    "]\n",
    "'''\n",
    "\n",
    "param_grid = [\n",
    "    {'hogify__orientations': [9],\n",
    "    'hogify__cells_per_block': [(2,2)],\n",
    "    'hogify__pixels_per_cell': [(16,16)],\n",
    "    'classify__alpha': [1e-3, 1e-2, 1e-1, 1e0, 1e1, 1e3, 1e5],\n",
    "    'classify__epsilon': [1e-5, 1e-3, 1e-1, 1e1, 1e3, 1e5, 1e7]}\n",
    "]\n",
    "\n",
    "\n",
    "grid_search = GridSearchCV(SGDpipeline,\n",
    "                          param_grid,\n",
    "                          cv=3,\n",
    "                          n_jobs=-1,\n",
    "                           scoring='accuracy',\n",
    "                           verbose=1,\n",
    "                           return_train_score=True)\n",
    "\n",
    "grid_res = grid_search.fit(Xspiral, yspiral)\n",
    "\n",
    "    "
   ]
  },
  {
   "cell_type": "code",
   "execution_count": 61,
   "metadata": {},
   "outputs": [
    {
     "name": "stdout",
     "output_type": "stream",
     "text": [
      "Pipeline(memory=None,\n",
      "         steps=[('hogify',\n",
      "                 HogTransformer(block_norm='L2-Hys', cells_per_block=(2, 2),\n",
      "                                orientations=9, pixels_per_cell=(16, 16),\n",
      "                                y=None)),\n",
      "                ('scalify',\n",
      "                 StandardScaler(copy=True, with_mean=True, with_std=True)),\n",
      "                ('classify',\n",
      "                 SGDClassifier(alpha=0.1, average=False, class_weight=None,\n",
      "                               early_stopping=False, epsilon=1e-05, eta0=0.0,\n",
      "                               fit_intercept=True, l1_ratio=0.15,\n",
      "                               learning_rate='optimal', loss='hinge',\n",
      "                               max_iter=1000, n_iter_no_change=5, n_jobs=None,\n",
      "                               penalty='l2', power_t=0.5, random_state=42,\n",
      "                               shuffle=True, tol=0.001, validation_fraction=0.1,\n",
      "                               verbose=0, warm_start=False))],\n",
      "         verbose=False)\n",
      "0.7777777777777778\n"
     ]
    }
   ],
   "source": [
    "print(grid_res.best_estimator_)\n",
    "print(grid_res.best_score_)"
   ]
  },
  {
   "cell_type": "code",
   "execution_count": 59,
   "metadata": {},
   "outputs": [
    {
     "name": "stdout",
     "output_type": "stream",
     "text": [
      "[False False False  True False False  True  True  True  True  True  True\n",
      "  True  True  True False  True  True  True False False  True  True  True\n",
      "  True False False  True  True  True]\n",
      "Accuracy:  0.6666666666666666\n"
     ]
    }
   ],
   "source": [
    "SGDpipeline = Pipeline([\n",
    "    ('hogify', HogTransformer(pixels_per_cell=(16,16),\n",
    "                        cells_per_block=(2,2),\n",
    "                        orientations=9, \n",
    "                        block_norm='L2-Hys')\n",
    "    ),\n",
    "    ('scalify', StandardScaler()),\n",
    "    ('classify', SGDClassifier(random_state=42, max_iter=1000, tol= 1e-3, alpha=0.00009, epsilon=0.2))\n",
    "])\n",
    "\n",
    "clf = SGDpipeline.fit(Xspiral, yspiral)\n",
    "\n",
    "\n",
    "Xspiraltest, yspiraltest = extractXy(spiral_testing)\n",
    "yspiraltest = [1 if (x == 'H' or x == 1) else 0 for x in yspiraltest]\n",
    "\n",
    "yspiralpred = clf.predict(Xspiraltest)\n",
    "\n",
    "\n",
    "print(np.array(yspiralpred == yspiraltest))\n",
    "print('Accuracy: ', np.sum(yspiralpred == yspiraltest)/len(yspiraltest))"
   ]
  },
  {
   "cell_type": "code",
   "execution_count": null,
   "metadata": {},
   "outputs": [],
   "source": [
    "from sklearn.metrics import confusion_matrix\n",
    "import pandas as pd\n",
    "\n",
    "confusion_spiral = confusion_matrix(yspiraltest, yspiralpred)\n",
    "df = pd.DataFrame(confusion_spiral)\n",
    "df"
   ]
  },
  {
   "cell_type": "code",
   "execution_count": 56,
   "metadata": {},
   "outputs": [
    {
     "name": "stdout",
     "output_type": "stream",
     "text": [
      "[0 0 0 1 0 0 1 1 1 1 1 1 1 1 1 0 0 0 0 0 0 0 0 0 0 1 0 0 0 0]\n",
      "[1, 1, 1, 1, 1, 1, 1, 1, 1, 1, 1, 1, 1, 1, 1, 0, 0, 0, 0, 0, 0, 0, 0, 0, 0, 0, 0, 0, 0, 0]\n",
      "[False False False  True False False  True  True  True  True  True  True\n",
      "  True  True  True  True  True  True  True  True  True  True  True  True\n",
      "  True False  True  True  True  True]\n",
      "Accuracy:  0.8\n"
     ]
    }
   ],
   "source": [
    "from sklearn.linear_model import SGDClassifier\n",
    "\n",
    "sgd_clf = SGDClassifier(random_state=42, max_iter=1000, tol= 1e-3, alpha=0.00009)\n",
    "sgd_clf.fit(Xspiral_prepared, yspiral)\n",
    "\n",
    "Xspiraltest, yspiraltest = extractXy(spiral_testing)\n",
    "yspiraltest = [1 if (x == 'H' or x == 1) else 0 for x in yspiraltest]\n",
    "\n",
    "Xspiraltest_hog = hogify.fit_transform(Xspiraltest)\n",
    "Xspiraltest_prepared = scalify.fit_transform(Xspiraltest_hog)\n",
    "yspiralpred = sgd_clf.predict(Xspiraltest_prepared)\n",
    "\n",
    "print(yspiralpred)\n",
    "print(yspiraltest)\n",
    "print(np.array(yspiralpred == yspiraltest))\n",
    "print('Accuracy: ', np.sum(yspiralpred == yspiraltest)/len(yspiraltest))"
   ]
  },
  {
   "cell_type": "code",
   "execution_count": 14,
   "metadata": {},
   "outputs": [
    {
     "data": {
      "text/html": [
       "<div>\n",
       "<style scoped>\n",
       "    .dataframe tbody tr th:only-of-type {\n",
       "        vertical-align: middle;\n",
       "    }\n",
       "\n",
       "    .dataframe tbody tr th {\n",
       "        vertical-align: top;\n",
       "    }\n",
       "\n",
       "    .dataframe thead th {\n",
       "        text-align: right;\n",
       "    }\n",
       "</style>\n",
       "<table border=\"1\" class=\"dataframe\">\n",
       "  <thead>\n",
       "    <tr style=\"text-align: right;\">\n",
       "      <th></th>\n",
       "      <th>0</th>\n",
       "      <th>1</th>\n",
       "    </tr>\n",
       "  </thead>\n",
       "  <tbody>\n",
       "    <tr>\n",
       "      <td>0</td>\n",
       "      <td>10</td>\n",
       "      <td>5</td>\n",
       "    </tr>\n",
       "    <tr>\n",
       "      <td>1</td>\n",
       "      <td>1</td>\n",
       "      <td>14</td>\n",
       "    </tr>\n",
       "  </tbody>\n",
       "</table>\n",
       "</div>"
      ],
      "text/plain": [
       "    0   1\n",
       "0  10   5\n",
       "1   1  14"
      ]
     },
     "execution_count": 14,
     "metadata": {},
     "output_type": "execute_result"
    }
   ],
   "source": [
    "from sklearn.metrics import confusion_matrix\n",
    "import pandas as pd\n",
    "\n",
    "confusion_spiral = confusion_matrix(yspiraltest, yspiralpred)\n",
    "df = pd.DataFrame(confusion_spiral)\n",
    "df"
   ]
  },
  {
   "cell_type": "code",
   "execution_count": 126,
   "metadata": {},
   "outputs": [
    {
     "name": "stdout",
     "output_type": "stream",
     "text": [
      "Fitting 3 folds for each of 8 candidates, totalling 24 fits\n"
     ]
    },
    {
     "name": "stderr",
     "output_type": "stream",
     "text": [
      "[Parallel(n_jobs=-1)]: Using backend LokyBackend with 4 concurrent workers.\n",
      "[Parallel(n_jobs=-1)]: Done  24 out of  24 | elapsed:   20.0s finished\n"
     ]
    },
    {
     "name": "stdout",
     "output_type": "stream",
     "text": [
      "Pipeline(memory=None,\n",
      "         steps=[('hogify',\n",
      "                 HogTransformer(block_norm='L2-Hys', cells_per_block=(3, 3),\n",
      "                                orientations=9, pixels_per_cell=(18, 18),\n",
      "                                y=None)),\n",
      "                ('scalify',\n",
      "                 StandardScaler(copy=True, with_mean=True, with_std=True)),\n",
      "                ('classify',\n",
      "                 SVC(C=0.0008, cache_size=200, class_weight=None, coef0=0.0,\n",
      "                     decision_function_shape='ovr', degree=3,\n",
      "                     gamma='auto_deprecated', kernel='linear', max_iter=-1,\n",
      "                     probability=False, random_state=42, shrinking=True,\n",
      "                     tol=0.001, verbose=False))],\n",
      "         verbose=False)\n",
      "0.8333333333333334\n"
     ]
    }
   ],
   "source": [
    "# CURRENT\n",
    "from sklearn.svm import SVC\n",
    "\n",
    "\n",
    "SVCpipeline = Pipeline([\n",
    "    ('hogify', HogTransformer(pixels_per_cell=(8,8),\n",
    "                        cells_per_block=(1,1),\n",
    "                        orientations=9, \n",
    "                        block_norm='L2-Hys')\n",
    "    ),\n",
    "    ('scalify', StandardScaler()),\n",
    "    ('classify', SVC(random_state=42))\n",
    "])\n",
    "\n",
    "param_grid = [\n",
    "    {'hogify__orientations': [9],\n",
    "    'hogify__cells_per_block': [(3,3)],\n",
    "    'hogify__pixels_per_cell': [(18,18)],\n",
    "    'classify__C': [8e-4, 9e-4, 1e-3, 1.5e-3],\n",
    "    'classify__kernel': ['rbf','linear']\n",
    "    }\n",
    "]\n",
    "\n",
    "\n",
    "grid_search = GridSearchCV(SVCpipeline,\n",
    "                          param_grid,\n",
    "                          cv=3,\n",
    "                          n_jobs=-1,\n",
    "                           scoring='recall',\n",
    "                           verbose=1,\n",
    "                           return_train_score=True)\n",
    "\n",
    "grid_res = grid_search.fit(Xspiral, yspiral)\n",
    "\n",
    "print(grid_res.best_estimator_)\n",
    "print(grid_res.best_score_)"
   ]
  },
  {
   "cell_type": "code",
   "execution_count": 115,
   "metadata": {},
   "outputs": [
    {
     "name": "stdout",
     "output_type": "stream",
     "text": [
      "0.8\n"
     ]
    },
    {
     "data": {
      "image/png": "[encoded data removed]",
      "text/plain": [
       "<Figure size 432x288 with 1 Axes>"
      ]
     },
     "metadata": {
      "needs_background": "light"
     },
     "output_type": "display_data"
    }
   ],
   "source": [
    "'''\n",
    "from sklearn.metrics import roc_auc_score\n",
    "from sklearn.metrics import roc_curve\n",
    "from matplotlib import pyplot\n",
    "\n",
    "ns_lbl = [0 for x in range(len(yspiraltest))]\n",
    "\n",
    "SVCpipeline = Pipeline([\n",
    "    ('hogify', HogTransformer(pixels_per_cell=(18,18),\n",
    "                        cells_per_block=(3,3),\n",
    "                        orientations=9, \n",
    "                        block_norm='L2-Hys')\n",
    "    ),\n",
    "    ('scalify', StandardScaler()),\n",
    "    ('classify', SVC(random_state=42, C = 0.0008, kernel = 'linear'))\n",
    "])\n",
    "\n",
    "\n",
    "model = SVCpipeline.fit(Xspiral, yspiral)\n",
    "\n",
    "svc_lbl = model.predict(Xspiraltest)\n",
    "\n",
    "ns_auc = roc_auc_score(yspiraltest, ns_lbl)\n",
    "svc_auc = roc_auc_score(yspiraltest, svc_lbl)\n",
    "print(svc_auc)\n",
    "\n",
    "ns_fpr, ns_tpr, _ = roc_curve(yspiraltest, ns_lbl)\n",
    "svc_fpr, svc_tpr, _ = roc_curve(yspiraltest, svc_lbl)\n",
    "\n",
    "pyplot.plot(ns_fpr, ns_tpr, linestyle='--')\n",
    "pyplot.plot(svc_fpr, svc_tpr, marker='.', label='Support Vector Classifier')\n",
    "pyplot.xlabel('False Positive Rate')\n",
    "pyplot.ylabel('True Positive Rate')\n",
    "pyplot.legend()\n",
    "pyplot.show()\n",
    "'''"
   ]
  },
  {
   "cell_type": "code",
   "execution_count": 114,
   "metadata": {},
   "outputs": [
    {
     "name": "stdout",
     "output_type": "stream",
     "text": [
      "0.8000000000000002 0.8500000000000001\n"
     ]
    },
    {
     "data": {
      "image/png": "[encoded data removed]",
      "text/plain": [
       "<Figure size 432x288 with 1 Axes>"
      ]
     },
     "metadata": {
      "needs_background": "light"
     },
     "output_type": "display_data"
    }
   ],
   "source": [
    "'''\n",
    "from sklearn.metrics import precision_recall_curve\n",
    "from sklearn.metrics import f1_score\n",
    "from sklearn.metrics import auc\n",
    "\n",
    "svc_precision, svc_recall, _ = precision_recall_curve(yspiraltest, svc_lbl)\n",
    "svc_f1 = f1_score(yspiraltest, svc_lbl)\n",
    "svc_auc = auc(svc_recall, svc_precision)\n",
    "print(svc_f1, svc_auc)\n",
    "\n",
    "\n",
    "ns = 15 / len(yspiraltest)\n",
    "\n",
    "pyplot.plot([0,1],[ns,ns], linestyle='--')\n",
    "pyplot.plot(svc_recall, svc_precision, marker='.', label='Support Vector Classifier')\n",
    "pyplot.xlabel('Recall')\n",
    "pyplot.ylabel('Precision')\n",
    "pyplot.legend()\n",
    "pyplot.show()\n",
    "'''"
   ]
  },
  {
   "cell_type": "code",
   "execution_count": 90,
   "metadata": {},
   "outputs": [
    {
     "name": "stderr",
     "output_type": "stream",
     "text": [
      "[Parallel(n_jobs=-1)]: Using backend LokyBackend with 4 concurrent workers.\n"
     ]
    },
    {
     "ename": "AttributeError",
     "evalue": "'numpy.ndarray' object has no attribute 'keys'",
     "output_type": "error",
     "traceback": [
      "\u001b[1;31m---------------------------------------------------------------------------\u001b[0m",
      "\u001b[1;31m_RemoteTraceback\u001b[0m                          Traceback (most recent call last)",
      "\u001b[1;31m_RemoteTraceback\u001b[0m: \n\"\"\"\nTraceback (most recent call last):\n  File \"C:\\Users\\Daniel\\Anaconda3\\lib\\site-packages\\joblib\\externals\\loky\\process_executor.py\", line 418, in _process_worker\n    r = call_item()\n  File \"C:\\Users\\Daniel\\Anaconda3\\lib\\site-packages\\joblib\\externals\\loky\\process_executor.py\", line 272, in __call__\n    return self.fn(*self.args, **self.kwargs)\n  File \"C:\\Users\\Daniel\\Anaconda3\\lib\\site-packages\\joblib\\_parallel_backends.py\", line 567, in __call__\n    return self.func(*args, **kwargs)\n  File \"C:\\Users\\Daniel\\Anaconda3\\lib\\site-packages\\joblib\\parallel.py\", line 225, in __call__\n    for func, args, kwargs in self.items]\n  File \"C:\\Users\\Daniel\\Anaconda3\\lib\\site-packages\\joblib\\parallel.py\", line 225, in <listcomp>\n    for func, args, kwargs in self.items]\n  File \"C:\\Users\\Daniel\\Anaconda3\\lib\\site-packages\\parfit\\crossval.py\", line 33, in crossvalOne\n    if 'random_state' in params.keys():\nAttributeError: 'numpy.ndarray' object has no attribute 'keys'\n\"\"\"",
      "\nThe above exception was the direct cause of the following exception:\n",
      "\u001b[1;31mAttributeError\u001b[0m                            Traceback (most recent call last)",
      "\u001b[1;32m<ipython-input-90-57d83f8e0b1c>\u001b[0m in \u001b[0;36m<module>\u001b[1;34m\u001b[0m\n\u001b[0;32m     24\u001b[0m \u001b[1;31m#print(bestModel, bestScore)\u001b[0m\u001b[1;33m\u001b[0m\u001b[1;33m\u001b[0m\u001b[1;33m\u001b[0m\u001b[0m\n\u001b[0;32m     25\u001b[0m \u001b[1;33m\u001b[0m\u001b[0m\n\u001b[1;32m---> 26\u001b[1;33m \u001b[0mmyScores\u001b[0m\u001b[1;33m,\u001b[0m \u001b[0mmyModels\u001b[0m \u001b[1;33m=\u001b[0m \u001b[0mpf\u001b[0m\u001b[1;33m.\u001b[0m\u001b[0mcrossvalModels\u001b[0m\u001b[1;33m(\u001b[0m\u001b[0mSVCpipeline\u001b[0m\u001b[1;33m,\u001b[0m \u001b[0mXspiral\u001b[0m\u001b[1;33m,\u001b[0m \u001b[0myspiral\u001b[0m\u001b[1;33m,\u001b[0m \u001b[0mparamGrid\u001b[0m\u001b[1;33m,\u001b[0m \u001b[0mnfolds\u001b[0m\u001b[1;33m=\u001b[0m\u001b[1;36m3\u001b[0m\u001b[1;33m)\u001b[0m\u001b[1;33m\u001b[0m\u001b[1;33m\u001b[0m\u001b[0m\n\u001b[0m",
      "\u001b[1;32m~\\Anaconda3\\lib\\site-packages\\parfit\\crossval.py\u001b[0m in \u001b[0;36mcrossvalModels\u001b[1;34m(model, paramGrid, X, y, nfolds, metric, predict_proba, n_jobs, verbose)\u001b[0m\n\u001b[0;32m     83\u001b[0m         Parallel(n_jobs=n_jobs, verbose=verbose)(\n\u001b[0;32m     84\u001b[0m             \u001b[0mdelayed\u001b[0m\u001b[1;33m(\u001b[0m\u001b[0mcrossvalOne\u001b[0m\u001b[1;33m)\u001b[0m\u001b[1;33m(\u001b[0m\u001b[0mmodel\u001b[0m\u001b[1;33m,\u001b[0m \u001b[0mX\u001b[0m\u001b[1;33m,\u001b[0m \u001b[0my\u001b[0m\u001b[1;33m,\u001b[0m \u001b[0mparams\u001b[0m\u001b[1;33m,\u001b[0m \u001b[0mnfolds\u001b[0m\u001b[1;33m,\u001b[0m \u001b[0mmetric\u001b[0m\u001b[1;33m,\u001b[0m \u001b[0mpredict_proba\u001b[0m\u001b[1;33m,\u001b[0m \u001b[0mn_jobs\u001b[0m\u001b[1;33m,\u001b[0m \u001b[0mnp\u001b[0m\u001b[1;33m.\u001b[0m\u001b[0mceil\u001b[0m\u001b[1;33m(\u001b[0m\u001b[0mverbose\u001b[0m \u001b[1;33m/\u001b[0m \u001b[1;36m10\u001b[0m\u001b[1;33m)\u001b[0m\u001b[1;33m)\u001b[0m\u001b[1;33m\u001b[0m\u001b[1;33m\u001b[0m\u001b[0m\n\u001b[1;32m---> 85\u001b[1;33m             \u001b[1;32mfor\u001b[0m \u001b[0mparams\u001b[0m \u001b[1;32min\u001b[0m \u001b[0mparamGrid\u001b[0m\u001b[1;33m\u001b[0m\u001b[1;33m\u001b[0m\u001b[0m\n\u001b[0m\u001b[0;32m     86\u001b[0m         ),\n\u001b[0;32m     87\u001b[0m         \u001b[0mlist\u001b[0m\u001b[1;33m(\u001b[0m\u001b[0mparamGrid\u001b[0m\u001b[1;33m)\u001b[0m\u001b[1;33m,\u001b[0m\u001b[1;33m\u001b[0m\u001b[1;33m\u001b[0m\u001b[0m\n",
      "\u001b[1;32m~\\Anaconda3\\lib\\site-packages\\joblib\\parallel.py\u001b[0m in \u001b[0;36m__call__\u001b[1;34m(self, iterable)\u001b[0m\n\u001b[0;32m    932\u001b[0m \u001b[1;33m\u001b[0m\u001b[0m\n\u001b[0;32m    933\u001b[0m             \u001b[1;32mwith\u001b[0m \u001b[0mself\u001b[0m\u001b[1;33m.\u001b[0m\u001b[0m_backend\u001b[0m\u001b[1;33m.\u001b[0m\u001b[0mretrieval_context\u001b[0m\u001b[1;33m(\u001b[0m\u001b[1;33m)\u001b[0m\u001b[1;33m:\u001b[0m\u001b[1;33m\u001b[0m\u001b[1;33m\u001b[0m\u001b[0m\n\u001b[1;32m--> 934\u001b[1;33m                 \u001b[0mself\u001b[0m\u001b[1;33m.\u001b[0m\u001b[0mretrieve\u001b[0m\u001b[1;33m(\u001b[0m\u001b[1;33m)\u001b[0m\u001b[1;33m\u001b[0m\u001b[1;33m\u001b[0m\u001b[0m\n\u001b[0m\u001b[0;32m    935\u001b[0m             \u001b[1;31m# Make sure that we get a last message telling us we are done\u001b[0m\u001b[1;33m\u001b[0m\u001b[1;33m\u001b[0m\u001b[1;33m\u001b[0m\u001b[0m\n\u001b[0;32m    936\u001b[0m             \u001b[0melapsed_time\u001b[0m \u001b[1;33m=\u001b[0m \u001b[0mtime\u001b[0m\u001b[1;33m.\u001b[0m\u001b[0mtime\u001b[0m\u001b[1;33m(\u001b[0m\u001b[1;33m)\u001b[0m \u001b[1;33m-\u001b[0m \u001b[0mself\u001b[0m\u001b[1;33m.\u001b[0m\u001b[0m_start_time\u001b[0m\u001b[1;33m\u001b[0m\u001b[1;33m\u001b[0m\u001b[0m\n",
      "\u001b[1;32m~\\Anaconda3\\lib\\site-packages\\joblib\\parallel.py\u001b[0m in \u001b[0;36mretrieve\u001b[1;34m(self)\u001b[0m\n\u001b[0;32m    831\u001b[0m             \u001b[1;32mtry\u001b[0m\u001b[1;33m:\u001b[0m\u001b[1;33m\u001b[0m\u001b[1;33m\u001b[0m\u001b[0m\n\u001b[0;32m    832\u001b[0m                 \u001b[1;32mif\u001b[0m \u001b[0mgetattr\u001b[0m\u001b[1;33m(\u001b[0m\u001b[0mself\u001b[0m\u001b[1;33m.\u001b[0m\u001b[0m_backend\u001b[0m\u001b[1;33m,\u001b[0m \u001b[1;34m'supports_timeout'\u001b[0m\u001b[1;33m,\u001b[0m \u001b[1;32mFalse\u001b[0m\u001b[1;33m)\u001b[0m\u001b[1;33m:\u001b[0m\u001b[1;33m\u001b[0m\u001b[1;33m\u001b[0m\u001b[0m\n\u001b[1;32m--> 833\u001b[1;33m                     \u001b[0mself\u001b[0m\u001b[1;33m.\u001b[0m\u001b[0m_output\u001b[0m\u001b[1;33m.\u001b[0m\u001b[0mextend\u001b[0m\u001b[1;33m(\u001b[0m\u001b[0mjob\u001b[0m\u001b[1;33m.\u001b[0m\u001b[0mget\u001b[0m\u001b[1;33m(\u001b[0m\u001b[0mtimeout\u001b[0m\u001b[1;33m=\u001b[0m\u001b[0mself\u001b[0m\u001b[1;33m.\u001b[0m\u001b[0mtimeout\u001b[0m\u001b[1;33m)\u001b[0m\u001b[1;33m)\u001b[0m\u001b[1;33m\u001b[0m\u001b[1;33m\u001b[0m\u001b[0m\n\u001b[0m\u001b[0;32m    834\u001b[0m                 \u001b[1;32melse\u001b[0m\u001b[1;33m:\u001b[0m\u001b[1;33m\u001b[0m\u001b[1;33m\u001b[0m\u001b[0m\n\u001b[0;32m    835\u001b[0m                     \u001b[0mself\u001b[0m\u001b[1;33m.\u001b[0m\u001b[0m_output\u001b[0m\u001b[1;33m.\u001b[0m\u001b[0mextend\u001b[0m\u001b[1;33m(\u001b[0m\u001b[0mjob\u001b[0m\u001b[1;33m.\u001b[0m\u001b[0mget\u001b[0m\u001b[1;33m(\u001b[0m\u001b[1;33m)\u001b[0m\u001b[1;33m)\u001b[0m\u001b[1;33m\u001b[0m\u001b[1;33m\u001b[0m\u001b[0m\n",
      "\u001b[1;32m~\\Anaconda3\\lib\\site-packages\\joblib\\_parallel_backends.py\u001b[0m in \u001b[0;36mwrap_future_result\u001b[1;34m(future, timeout)\u001b[0m\n\u001b[0;32m    519\u001b[0m         AsyncResults.get from multiprocessing.\"\"\"\n\u001b[0;32m    520\u001b[0m         \u001b[1;32mtry\u001b[0m\u001b[1;33m:\u001b[0m\u001b[1;33m\u001b[0m\u001b[1;33m\u001b[0m\u001b[0m\n\u001b[1;32m--> 521\u001b[1;33m             \u001b[1;32mreturn\u001b[0m \u001b[0mfuture\u001b[0m\u001b[1;33m.\u001b[0m\u001b[0mresult\u001b[0m\u001b[1;33m(\u001b[0m\u001b[0mtimeout\u001b[0m\u001b[1;33m=\u001b[0m\u001b[0mtimeout\u001b[0m\u001b[1;33m)\u001b[0m\u001b[1;33m\u001b[0m\u001b[1;33m\u001b[0m\u001b[0m\n\u001b[0m\u001b[0;32m    522\u001b[0m         \u001b[1;32mexcept\u001b[0m \u001b[0mLokyTimeoutError\u001b[0m\u001b[1;33m:\u001b[0m\u001b[1;33m\u001b[0m\u001b[1;33m\u001b[0m\u001b[0m\n\u001b[0;32m    523\u001b[0m             \u001b[1;32mraise\u001b[0m \u001b[0mTimeoutError\u001b[0m\u001b[1;33m(\u001b[0m\u001b[1;33m)\u001b[0m\u001b[1;33m\u001b[0m\u001b[1;33m\u001b[0m\u001b[0m\n",
      "\u001b[1;32m~\\Anaconda3\\lib\\concurrent\\futures\\_base.py\u001b[0m in \u001b[0;36mresult\u001b[1;34m(self, timeout)\u001b[0m\n\u001b[0;32m    433\u001b[0m                 \u001b[1;32mraise\u001b[0m \u001b[0mCancelledError\u001b[0m\u001b[1;33m(\u001b[0m\u001b[1;33m)\u001b[0m\u001b[1;33m\u001b[0m\u001b[1;33m\u001b[0m\u001b[0m\n\u001b[0;32m    434\u001b[0m             \u001b[1;32melif\u001b[0m \u001b[0mself\u001b[0m\u001b[1;33m.\u001b[0m\u001b[0m_state\u001b[0m \u001b[1;33m==\u001b[0m \u001b[0mFINISHED\u001b[0m\u001b[1;33m:\u001b[0m\u001b[1;33m\u001b[0m\u001b[1;33m\u001b[0m\u001b[0m\n\u001b[1;32m--> 435\u001b[1;33m                 \u001b[1;32mreturn\u001b[0m \u001b[0mself\u001b[0m\u001b[1;33m.\u001b[0m\u001b[0m__get_result\u001b[0m\u001b[1;33m(\u001b[0m\u001b[1;33m)\u001b[0m\u001b[1;33m\u001b[0m\u001b[1;33m\u001b[0m\u001b[0m\n\u001b[0m\u001b[0;32m    436\u001b[0m             \u001b[1;32melse\u001b[0m\u001b[1;33m:\u001b[0m\u001b[1;33m\u001b[0m\u001b[1;33m\u001b[0m\u001b[0m\n\u001b[0;32m    437\u001b[0m                 \u001b[1;32mraise\u001b[0m \u001b[0mTimeoutError\u001b[0m\u001b[1;33m(\u001b[0m\u001b[1;33m)\u001b[0m\u001b[1;33m\u001b[0m\u001b[1;33m\u001b[0m\u001b[0m\n",
      "\u001b[1;32m~\\Anaconda3\\lib\\concurrent\\futures\\_base.py\u001b[0m in \u001b[0;36m__get_result\u001b[1;34m(self)\u001b[0m\n\u001b[0;32m    382\u001b[0m     \u001b[1;32mdef\u001b[0m \u001b[0m__get_result\u001b[0m\u001b[1;33m(\u001b[0m\u001b[0mself\u001b[0m\u001b[1;33m)\u001b[0m\u001b[1;33m:\u001b[0m\u001b[1;33m\u001b[0m\u001b[1;33m\u001b[0m\u001b[0m\n\u001b[0;32m    383\u001b[0m         \u001b[1;32mif\u001b[0m \u001b[0mself\u001b[0m\u001b[1;33m.\u001b[0m\u001b[0m_exception\u001b[0m\u001b[1;33m:\u001b[0m\u001b[1;33m\u001b[0m\u001b[1;33m\u001b[0m\u001b[0m\n\u001b[1;32m--> 384\u001b[1;33m             \u001b[1;32mraise\u001b[0m \u001b[0mself\u001b[0m\u001b[1;33m.\u001b[0m\u001b[0m_exception\u001b[0m\u001b[1;33m\u001b[0m\u001b[1;33m\u001b[0m\u001b[0m\n\u001b[0m\u001b[0;32m    385\u001b[0m         \u001b[1;32melse\u001b[0m\u001b[1;33m:\u001b[0m\u001b[1;33m\u001b[0m\u001b[1;33m\u001b[0m\u001b[0m\n\u001b[0;32m    386\u001b[0m             \u001b[1;32mreturn\u001b[0m \u001b[0mself\u001b[0m\u001b[1;33m.\u001b[0m\u001b[0m_result\u001b[0m\u001b[1;33m\u001b[0m\u001b[1;33m\u001b[0m\u001b[0m\n",
      "\u001b[1;31mAttributeError\u001b[0m: 'numpy.ndarray' object has no attribute 'keys'"
     ]
    }
   ],
   "source": [
    "from sklearn.model_selection import ParameterGrid\n",
    "from sklearn.metrics import roc_auc_score\n",
    "import parfit.parfit as pf\n",
    "\n",
    "SVCpipeline = Pipeline([\n",
    "    ('hogify', HogTransformer(pixels_per_cell=(18,18),\n",
    "                        cells_per_block=(3,3),\n",
    "                        orientations=9, \n",
    "                        block_norm='L2-Hys')\n",
    "    ),\n",
    "    ('scalify', StandardScaler()),\n",
    "    ('classify', SVC(random_state=42, kernel='linear'))\n",
    "])\n",
    "\n",
    "grid = {\n",
    "    'hogify__pixels_per_cell': \n",
    "    'classify__C': [1e-9, 1e-7, 1e-5, 1e-3, 1e-1, 1e1, 1e3, 1e5]    \n",
    "}\n",
    "\n",
    "paramGrid = ParameterGrid(grid)\n",
    "\n",
    "bestModel, bestScore, allModels, allScores = pf.bestFit(SVCpipeline, paramGrid,\n",
    "          Xspiral, yspiral, Xspiraltest, yspiraltest,\n",
    "          metric = roc_auc_score, scoreLabel = 'AUC')\n",
    "print(bestModel, bestScore)"
   ]
  },
  {
   "cell_type": "code",
   "execution_count": 153,
   "metadata": {},
   "outputs": [
    {
     "name": "stdout",
     "output_type": "stream",
     "text": [
      "[False False False False False False False False False False False False\n",
      " False False False  True  True  True  True  True  True  True  True  True\n",
      "  True  True  True  True  True  True]\n",
      "Accuracy:  0.5\n",
      "Recall:  0.0\n"
     ]
    },
    {
     "data": {
      "text/html": [
       "<div>\n",
       "<style scoped>\n",
       "    .dataframe tbody tr th:only-of-type {\n",
       "        vertical-align: middle;\n",
       "    }\n",
       "\n",
       "    .dataframe tbody tr th {\n",
       "        vertical-align: top;\n",
       "    }\n",
       "\n",
       "    .dataframe thead th {\n",
       "        text-align: right;\n",
       "    }\n",
       "</style>\n",
       "<table border=\"1\" class=\"dataframe\">\n",
       "  <thead>\n",
       "    <tr style=\"text-align: right;\">\n",
       "      <th></th>\n",
       "      <th>0</th>\n",
       "      <th>1</th>\n",
       "    </tr>\n",
       "  </thead>\n",
       "  <tbody>\n",
       "    <tr>\n",
       "      <td>0</td>\n",
       "      <td>15</td>\n",
       "      <td>0</td>\n",
       "    </tr>\n",
       "    <tr>\n",
       "      <td>1</td>\n",
       "      <td>15</td>\n",
       "      <td>0</td>\n",
       "    </tr>\n",
       "  </tbody>\n",
       "</table>\n",
       "</div>"
      ],
      "text/plain": [
       "    0  1\n",
       "0  15  0\n",
       "1  15  0"
      ]
     },
     "execution_count": 153,
     "metadata": {},
     "output_type": "execute_result"
    }
   ],
   "source": [
    "from sklearn.metrics import recall_score\n",
    "\n",
    "SVCpipeline = Pipeline([\n",
    "    ('hogify', HogTransformer()\n",
    "    ),\n",
    "    ('scalify', StandardScaler()),\n",
    "    ('classify', SVC(random_state=42))\n",
    "])\n",
    "\n",
    "clf = SVCpipeline.fit(Xspiral, yspiral)\n",
    "\n",
    "Xspiraltest, yspiraltest = extractXy(spiral_testing)\n",
    "yspiraltest = [1 if (x == 'H' or x == 1) else 0 for x in yspiraltest]\n",
    "\n",
    "yspiralpred = clf.predict(Xspiraltest)\n",
    "\n",
    "\n",
    "print(np.array(yspiralpred == yspiraltest))\n",
    "print('Accuracy: ', np.sum(yspiralpred == yspiraltest)/len(yspiraltest))\n",
    "print('Recall: ', recall_score(yspiraltest, yspiralpred))\n",
    "\n",
    "from sklearn.metrics import confusion_matrix\n",
    "import pandas as pd\n",
    "\n",
    "confusion_spiral = confusion_matrix(yspiraltest, yspiralpred)\n",
    "df = pd.DataFrame(confusion_spiral)\n",
    "df"
   ]
  },
  {
   "cell_type": "markdown",
   "metadata": {},
   "source": [
    "SVCpipeline = Pipeline([\n",
    "    ('hogify', HogTransformer()\n",
    "    ),\n",
    "    ('scalify', StandardScaler()),\n",
    "    ('classify', SVC(random_state=42))\n",
    "])\n",
    "\n",
    "clf = SVCpipeline.fit(Xspiral, yspiral)\n",
    "\n",
    "Xspiraltest, yspiraltest = extractXy(spiral_testing)\n",
    "yspiraltest = [1 if (x == 'H' or x == 1) else 0 for x in yspiraltest]\n",
    "\n",
    "yspiralpred = clf.predict(Xspiraltest)\n",
    "\n",
    "\n",
    "print(np.array(yspiralpred == yspiraltest))\n",
    "print('Accuracy: ', np.sum(yspiralpred == yspiraltest)/len(yspiraltest))\n",
    "print('Recall: ', recall_score(yspiraltest, yspiralpred))\n",
    "\n",
    "\n",
    "from sklearn.metrics import confusion_matrix\n",
    "import pandas as pd\n",
    "\n",
    "confusion_spiral = confusion_matrix(yspiraltest, yspiralpred)\n",
    "df = pd.DataFrame(confusion_spiral)\n",
    "df"
   ]
  },
  {
   "cell_type": "code",
   "execution_count": 150,
   "metadata": {
    "scrolled": true
   },
   "outputs": [
    {
     "name": "stdout",
     "output_type": "stream",
     "text": [
      "Model: \"sequential_7\"\n",
      "_________________________________________________________________\n",
      "Layer (type)                 Output Shape              Param #   \n",
      "=================================================================\n",
      "conv2d_13 (Conv2D)           (None, 252, 252, 32)      832       \n",
      "_________________________________________________________________\n",
      "max_pooling2d_13 (MaxPooling (None, 126, 126, 32)      0         \n",
      "_________________________________________________________________\n",
      "flatten_7 (Flatten)          (None, 508032)            0         \n",
      "_________________________________________________________________\n",
      "dense_19 (Dense)             (None, 256)               130056448 \n",
      "_________________________________________________________________\n",
      "dropout_13 (Dropout)         (None, 256)               0         \n",
      "_________________________________________________________________\n",
      "dense_20 (Dense)             (None, 1)                 257       \n",
      "=================================================================\n",
      "Total params: 130,057,537\n",
      "Trainable params: 130,057,537\n",
      "Non-trainable params: 0\n",
      "_________________________________________________________________\n"
     ]
    }
   ],
   "source": [
    "from keras import layers\n",
    "from keras import models\n",
    "import keras_metrics\n",
    "\n",
    "model = models.Sequential()\n",
    "model.add(layers.Conv2D(32,(5,5),activation='relu',\n",
    "                       input_shape=(256,256,1)))\n",
    "model.add(layers.MaxPooling2D((2,2)))\n",
    "#model.add(layers.Conv2D(64, (3, 3), activation='relu'))\n",
    "#model.add(layers.MaxPooling2D((2, 2)))\n",
    "model.add(layers.Flatten())\n",
    "model.add(layers.Dense(units=256, activation='relu'))\n",
    "model.add(layers.Dropout(0.5))\n",
    "#model.add(layers.Dense(units=64, activation='relu'))\n",
    "model.add(layers.Dropout(0.5))\n",
    "model.add(layers.Dense(units=1, activation='sigmoid'))\n",
    "model.summary()"
   ]
  },
  {
   "cell_type": "code",
   "execution_count": 151,
   "metadata": {
    "scrolled": true
   },
   "outputs": [
    {
     "name": "stdout",
     "output_type": "stream",
     "text": [
      "Epoch 1/42\n",
      "72/72 [==============================] - 11s 153ms/step - loss: 0.8089 - accuracy: 0.5000\n",
      "Epoch 2/42\n",
      "72/72 [==============================] - 6s 87ms/step - loss: 0.7623 - accuracy: 0.4583\n",
      "Epoch 3/42\n",
      "72/72 [==============================] - 7s 97ms/step - loss: 0.6829 - accuracy: 0.5000\n",
      "Epoch 4/42\n",
      "72/72 [==============================] - 6s 87ms/step - loss: 0.7000 - accuracy: 0.5000\n",
      "Epoch 5/42\n",
      "72/72 [==============================] - 6s 83ms/step - loss: 0.6994 - accuracy: 0.4722\n",
      "Epoch 6/42\n",
      "72/72 [==============================] - 6s 82ms/step - loss: 0.6941 - accuracy: 0.5139\n",
      "Epoch 7/42\n",
      "72/72 [==============================] - 6s 81ms/step - loss: 0.6933 - accuracy: 0.4722\n",
      "Epoch 8/42\n",
      "72/72 [==============================] - 6s 81ms/step - loss: 0.6927 - accuracy: 0.6389\n",
      "Epoch 9/42\n",
      "72/72 [==============================] - 6s 82ms/step - loss: 0.6928 - accuracy: 0.5556\n",
      "Epoch 10/42\n",
      "72/72 [==============================] - 6s 81ms/step - loss: 0.6936 - accuracy: 0.4028\n",
      "Epoch 11/42\n",
      "72/72 [==============================] - 6s 83ms/step - loss: 0.6933 - accuracy: 0.4583\n",
      "Epoch 12/42\n",
      "72/72 [==============================] - 6s 89ms/step - loss: 0.6931 - accuracy: 0.5000\n",
      "Epoch 13/42\n",
      "72/72 [==============================] - 6s 86ms/step - loss: 0.6933 - accuracy: 0.5417\n",
      "Epoch 14/42\n",
      "72/72 [==============================] - 6s 84ms/step - loss: 0.6930 - accuracy: 0.5000\n",
      "Epoch 15/42\n",
      "72/72 [==============================] - 6s 86ms/step - loss: 0.6931 - accuracy: 0.6111\n",
      "Epoch 16/42\n",
      "72/72 [==============================] - 6s 83ms/step - loss: 0.6932 - accuracy: 0.4583\n",
      "Epoch 17/42\n",
      "72/72 [==============================] - 6s 82ms/step - loss: 0.6935 - accuracy: 0.3889\n",
      "Epoch 18/42\n",
      "72/72 [==============================] - 6s 85ms/step - loss: 0.6930 - accuracy: 0.5000\n",
      "Epoch 19/42\n",
      "72/72 [==============================] - 6s 85ms/step - loss: 0.6934 - accuracy: 0.3889\n",
      "Epoch 20/42\n",
      "72/72 [==============================] - 6s 83ms/step - loss: 0.6928 - accuracy: 0.5694\n",
      "Epoch 21/42\n",
      "72/72 [==============================] - 6s 82ms/step - loss: 0.6928 - accuracy: 0.5278\n",
      "Epoch 22/42\n",
      "72/72 [==============================] - 6s 82ms/step - loss: 0.6929 - accuracy: 0.5417\n",
      "Epoch 23/42\n",
      "72/72 [==============================] - 6s 83ms/step - loss: 0.6934 - accuracy: 0.4861\n",
      "Epoch 24/42\n",
      "72/72 [==============================] - 6s 82ms/step - loss: 0.6940 - accuracy: 0.3750\n",
      "Epoch 25/42\n",
      "72/72 [==============================] - 6s 84ms/step - loss: 0.6929 - accuracy: 0.5694\n",
      "Epoch 26/42\n",
      "72/72 [==============================] - 6s 85ms/step - loss: 0.6929 - accuracy: 0.5000\n",
      "Epoch 27/42\n",
      "72/72 [==============================] - 6s 86ms/step - loss: 0.6933 - accuracy: 0.5556\n",
      "Epoch 28/42\n",
      "72/72 [==============================] - 6s 84ms/step - loss: 0.6931 - accuracy: 0.5556\n",
      "Epoch 29/42\n",
      "72/72 [==============================] - 6s 84ms/step - loss: 0.6932 - accuracy: 0.4444\n",
      "Epoch 30/42\n",
      "72/72 [==============================] - 6s 86ms/step - loss: 0.6936 - accuracy: 0.4583\n",
      "Epoch 31/42\n",
      "72/72 [==============================] - 6s 83ms/step - loss: 0.6927 - accuracy: 0.6111\n",
      "Epoch 32/42\n",
      "72/72 [==============================] - 6s 82ms/step - loss: 0.6931 - accuracy: 0.5000\n",
      "Epoch 33/42\n",
      "72/72 [==============================] - 6s 84ms/step - loss: 0.6931 - accuracy: 0.4444\n",
      "Epoch 34/42\n",
      "72/72 [==============================] - 6s 83ms/step - loss: 0.6923 - accuracy: 0.5556\n",
      "Epoch 35/42\n",
      "72/72 [==============================] - 6s 85ms/step - loss: 0.6928 - accuracy: 0.5417\n",
      "Epoch 36/42\n",
      "72/72 [==============================] - 6s 84ms/step - loss: 0.6927 - accuracy: 0.4861\n",
      "Epoch 37/42\n",
      "72/72 [==============================] - 6s 86ms/step - loss: 0.6934 - accuracy: 0.4444\n",
      "Epoch 38/42\n",
      "72/72 [==============================] - 6s 87ms/step - loss: 0.6934 - accuracy: 0.5000\n",
      "Epoch 39/42\n",
      "72/72 [==============================] - 6s 84ms/step - loss: 0.6934 - accuracy: 0.4861\n",
      "Epoch 40/42\n",
      "72/72 [==============================] - 6s 84ms/step - loss: 0.6929 - accuracy: 0.5417\n",
      "Epoch 41/42\n",
      "72/72 [==============================] - 6s 84ms/step - loss: 0.6931 - accuracy: 0.5278\n",
      "Epoch 42/42\n",
      "72/72 [==============================] - 6s 84ms/step - loss: 0.6924 - accuracy: 0.5972\n"
     ]
    },
    {
     "data": {
      "text/plain": [
       "<keras.callbacks.callbacks.History at 0x1f543404048>"
      ]
     },
     "execution_count": 151,
     "metadata": {},
     "output_type": "execute_result"
    }
   ],
   "source": [
    "from keras.utils import to_categorical\n",
    "\n",
    "model.compile(loss='binary_crossentropy',\n",
    "             optimizer='rmsprop',\n",
    "             metrics=['accuracy'])\n",
    "\n",
    "Xspiral = Xspiral.reshape(72, 256, 256, 1)\n",
    "Xspiral = Xspiral.astype('float32') / 255\n",
    "\n",
    "yspiral = [1 if (x == 'H' or x == 1) else 0 for x in yspiral]\n",
    "\n",
    "\n",
    "\n",
    "model.fit(Xspiral, yspiral,\n",
    "         epochs=42,\n",
    "         verbose=1\n",
    "         )"
   ]
  },
  {
   "cell_type": "code",
   "execution_count": 152,
   "metadata": {},
   "outputs": [
    {
     "name": "stdout",
     "output_type": "stream",
     "text": [
      "[0, 0, 0, 0, 0, 0, 0, 0, 0, 0, 0, 0, 0, 0, 0, 0, 0, 0, 0, 0, 0, 0, 0, 0, 0, 0, 0, 0, 0, 0]\n",
      "30/30 [==============================] - 1s 22ms/step\n",
      "0.0\n",
      "1.0\n",
      "[[0]\n",
      " [0]\n",
      " [0]\n",
      " [0]\n",
      " [0]\n",
      " [0]\n",
      " [0]\n",
      " [0]\n",
      " [0]\n",
      " [0]\n",
      " [0]\n",
      " [0]\n",
      " [0]\n",
      " [0]\n",
      " [0]\n",
      " [0]\n",
      " [0]\n",
      " [0]\n",
      " [0]\n",
      " [0]\n",
      " [0]\n",
      " [0]\n",
      " [0]\n",
      " [0]\n",
      " [0]\n",
      " [0]\n",
      " [0]\n",
      " [0]\n",
      " [0]\n",
      " [0]]\n"
     ]
    }
   ],
   "source": [
    "Xspiraltest = Xspiraltest.reshape(30, 256, 256, 1)\n",
    "yspiraltest = [1 if x == ('H' or 1) else 0 for x in yspiraltest]\n",
    "print(yspiraltest)\n",
    "\n",
    "test_loss, test_acc = model.evaluate(Xspiraltest, yspiraltest)\n",
    "print(test_loss)\n",
    "print(test_acc)\n",
    "\n",
    "pred = model.predict_classes(Xspiraltest)\n",
    "print(pred)"
   ]
  },
  {
   "cell_type": "code",
   "execution_count": null,
   "metadata": {},
   "outputs": [],
   "source": []
  }
 ],
 "metadata": {
  "kernelspec": {
   "display_name": "Python 3",
   "language": "python",
   "name": "python3"
  },
  "language_info": {
   "codemirror_mode": {
    "name": "ipython",
    "version": 3
   },
   "file_extension": ".py",
   "mimetype": "text/x-python",
   "name": "python",
   "nbconvert_exporter": "python",
   "pygments_lexer": "ipython3",
   "version": "3.7.4"
  }
 },
 "nbformat": 4,
 "nbformat_minor": 2
}
