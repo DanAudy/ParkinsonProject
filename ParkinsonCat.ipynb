{
 "cells": [
  {
   "cell_type": "code",
   "execution_count": 43,
   "metadata": {},
   "outputs": [],
   "source": [
    "import cv2\n",
    "import os\n",
    "import numpy as np\n",
    "from matplotlib import pyplot as plt\n",
    "import pickle\n",
    "from sklearn.model_selection import GridSearchCV\n",
    "from sklearn.metrics import confusion_matrix\n",
    "import pandas as pd\n",
    "from skimage.feature import hog\n",
    "from sklearn.base import BaseEstimator, TransformerMixin\n",
    "from sklearn.preprocessing import StandardScaler\n",
    "from sklearn.metrics import recall_score\n",
    "from sklearn.svm import SVC\n",
    "from sklearn.pipeline import Pipeline\n",
    "from sklearn import svm\n",
    "import random\n"
   ]
  },
  {
   "cell_type": "code",
   "execution_count": 2,
   "metadata": {},
   "outputs": [],
   "source": [
    "groups = ['healthy', 'parkinson']\n",
    "categories = ['testing','training']\n",
    "im_types = ['spiral','wave']\n",
    "\n",
    "\n",
    "cwd = os.getcwd()\n",
    "\n",
    "base_dir = os.path.join(cwd, 'parkinsons-drawings')\n",
    "\n",
    "# Walk through the image directory\n",
    "# Read in images as grayscale and resave\n",
    "for root, dirs, files in os.walk(base_dir):\n",
    "    for name in files:\n",
    "        image = cv2.imread(os.path.join(root, name), 0)\n",
    "        cv2.imwrite(os.path.join(root,name), image)"
   ]
  },
  {
   "cell_type": "code",
   "execution_count": 3,
   "metadata": {},
   "outputs": [],
   "source": [
    "\n",
    "# Walk through image directory\n",
    "# Rescale all spiral drawings to 256x256 and all wave to 256x128 for \n",
    "# consistent size to be used as features\n",
    "for im_type in im_types:\n",
    "    direc = os.path.join(base_dir, im_type)\n",
    "    if im_type == 'spiral':\n",
    "        imsize = (256,256)\n",
    "    else:\n",
    "        imsize = (256,128)\n",
    "    for root, dirs, files in os.walk(direc):\n",
    "        for name in files:\n",
    "            image = cv2.imread(os.path.join(root,name),0)\n",
    "            resized = cv2.resize(image, imsize)\n",
    "            cv2.imwrite(os.path.join(root,name), resized)\n",
    "            "
   ]
  },
  {
   "cell_type": "code",
   "execution_count": 4,
   "metadata": {},
   "outputs": [],
   "source": [
    "\n",
    "def pickleData():\n",
    "    \n",
    "    # Create lists of dictionaries for each image type\n",
    "    spiral_training = []\n",
    "    direc = os.path.join(base_dir, 'spiral', 'training')\n",
    "\n",
    "    for root, dirs, files in os.walk(direc, followlinks=False):\n",
    "        for name in files:\n",
    "            image = cv2.imread(os.path.join(root,name),0)\n",
    "            label = name[3]\n",
    "            tdict = {'Desc': 'Spiral', 'Label': label, 'Image': image}\n",
    "            spiral_training.append(tdict)\n",
    "    \n",
    "    spiral_testing = []\n",
    "    direc = os.path.join(base_dir, 'spiral', 'testing')\n",
    "\n",
    "    for root, dirs, files in os.walk(direc, followlinks=False):\n",
    "        for name in files:\n",
    "            image = cv2.imread(os.path.join(root,name),0)\n",
    "            label = name[3]\n",
    "            tdict = {'Desc': 'Spiral', 'Label': label, 'Image': image}\n",
    "            spiral_testing.append(tdict)  \n",
    "\n",
    "    wave_training = []\n",
    "    direc = os.path.join(base_dir, 'wave', 'training')\n",
    "\n",
    "    for root, dirs, files in os.walk(direc, followlinks=False):\n",
    "        for name in files:\n",
    "            image = cv2.imread(os.path.join(root,name),0)\n",
    "            label = name[3]\n",
    "            tdict = {'Desc': 'Wave', 'Label': label, 'Image': image}\n",
    "            wave_training.append(tdict)   \n",
    "        \n",
    "    wave_testing = []\n",
    "    direc = os.path.join(base_dir, 'wave', 'testing')\n",
    "\n",
    "    for root, dirs, files in os.walk(direc, followlinks=False):\n",
    "        for name in files:\n",
    "            image = cv2.imread(os.path.join(root,name),0)\n",
    "            label = name[3]\n",
    "            tdict = {'Desc': 'Wave', 'Label': label, 'Image': image}\n",
    "            wave_testing.append(tdict)    \n",
    "\n",
    "    # Pickle datasets\n",
    "    pickle.dump(spiral_training, open('spiral_training.p','wb'))\n",
    "    pickle.dump(spiral_testing, open('spiral_testing.p','wb'))\n",
    "    pickle.dump(wave_training, open('wave_training.p','wb'))\n",
    "    pickle.dump(wave_testing, open('wave_testing.p','wb'))\n",
    "\n",
    "    \n",
    "def unpickleData():\n",
    "    spiral_training = pickle.load(open('spiral_training.p','rb'))\n",
    "    spiral_testing = pickle.load(open('spiral_testing.p','rb'))\n",
    "    wave_training = pickle.load(open('wave_training.p','rb'))\n",
    "    wave_testing = pickle.load(open('wave_testing.p','rb'))\n",
    "    return spiral_training, spiral_testing, wave_training, wave_testing"
   ]
  },
  {
   "cell_type": "code",
   "execution_count": 5,
   "metadata": {},
   "outputs": [],
   "source": [
    "#pickleData()\n",
    "spiral_training, spiral_testing, wave_training, wave_testing = unpickleData()\n"
   ]
  },
  {
   "cell_type": "code",
   "execution_count": 6,
   "metadata": {},
   "outputs": [],
   "source": [
    "def extractXy(mylist):\n",
    "    X = []\n",
    "    y = []\n",
    "    for entry in mylist:\n",
    "        X.append(entry.get(\"Image\"))\n",
    "        y.append(entry.get(\"Label\"))\n",
    "    return np.array(X), np.array(y)"
   ]
  },
  {
   "cell_type": "code",
   "execution_count": 47,
   "metadata": {},
   "outputs": [
    {
     "name": "stdout",
     "output_type": "stream",
     "text": [
      "[1, 1, 1, 1, 1, 1, 1, 1, 1, 1, 1, 1, 1, 1, 1, 1, 1, 1, 1, 1, 1, 1, 1, 1, 1, 1, 1, 1, 1, 1, 1, 1, 1, 1, 1, 1, 0, 0, 0, 0, 0, 0, 0, 0, 0, 0, 0, 0, 0, 0, 0, 0, 0, 0, 0, 0, 0, 0, 0, 0, 0, 0, 0, 0, 0, 0, 0, 0, 0, 0, 0, 0]\n"
     ]
    }
   ],
   "source": [
    "Xspiral, yspiral = extractXy(spiral_training)\n",
    "yspiral = [1 if (x == 'H' or x == 1) else 0 for x in yspiral]\n",
    "print(yspiral)\n",
    "#print(Xspiral[0])"
   ]
  },
  {
   "cell_type": "code",
   "execution_count": 8,
   "metadata": {},
   "outputs": [],
   "source": [
    "# HogTransformer from https://kapernikov.com/tutorial-image-classification-with-scikit-learn/\n",
    "class HogTransformer(BaseEstimator, TransformerMixin):\n",
    "    def __init__(self, y=None, orientations=9,\n",
    "                pixels_per_cell=(16,16),\n",
    "                cells_per_block=(3,3),\n",
    "                block_norm = 'L2-Hys'):\n",
    "        self.y = y\n",
    "        self.orientations = orientations\n",
    "        self.pixels_per_cell = pixels_per_cell\n",
    "        self.cells_per_block = cells_per_block\n",
    "        self.block_norm = block_norm\n",
    "        \n",
    "    def fit(self, X, y=None):\n",
    "        return self\n",
    "    \n",
    "    def transform(self, X, y=None):\n",
    "        \n",
    "        def local_hog(X):\n",
    "            return hog(X,\n",
    "                      orientations = self.orientations,\n",
    "                      pixels_per_cell = self.pixels_per_cell,\n",
    "                      cells_per_block = self.cells_per_block,\n",
    "                      block_norm = self.block_norm,\n",
    "                      feature_vector=True)\n",
    "        try:\n",
    "            return np.array([local_hog(img) for img in X])\n",
    "        except:\n",
    "            return np.array([local_hog(img) for img in X])\n",
    "    \n"
   ]
  },
  {
   "cell_type": "code",
   "execution_count": 48,
   "metadata": {
    "scrolled": true
   },
   "outputs": [],
   "source": [
    "    \n",
    "hogify = HogTransformer(pixels_per_cell=(18,18),\n",
    "                        cells_per_block=(3,3),\n",
    "                        orientations=9, \n",
    "                        block_norm='L2-Hys')\n",
    "scalify = StandardScaler()\n",
    "\n",
    "Xspiral_hog = hogify.fit_transform(Xspiral)\n",
    "Xspiral_prepared = scalify.fit_transform(Xspiral_hog)"
   ]
  },
  {
   "cell_type": "code",
   "execution_count": 49,
   "metadata": {},
   "outputs": [],
   "source": [
    "Xspiraltest, yspiraltest = extractXy(spiral_testing)\n",
    "yspiraltest = [1 if (x == 'H' or x == 1) else 0 for x in yspiraltest]\n",
    "\n",
    "Xspiraltest_hog = hogify.fit_transform(Xspiraltest)\n",
    "Xspiraltest_prepared = scalify.fit_transform(Xspiraltest_hog)\n"
   ]
  },
  {
   "cell_type": "code",
   "execution_count": null,
   "metadata": {},
   "outputs": [],
   "source": []
  },
  {
   "cell_type": "code",
   "execution_count": null,
   "metadata": {},
   "outputs": [],
   "source": []
  },
  {
   "cell_type": "code",
   "execution_count": null,
   "metadata": {},
   "outputs": [],
   "source": []
  },
  {
   "cell_type": "code",
   "execution_count": null,
   "metadata": {},
   "outputs": [],
   "source": []
  },
  {
   "cell_type": "code",
   "execution_count": null,
   "metadata": {},
   "outputs": [],
   "source": []
  },
  {
   "cell_type": "code",
   "execution_count": 9,
   "metadata": {},
   "outputs": [
    {
     "data": {
      "text/plain": [
       "\"\\n\\n\\n\\nSVCpipeline = Pipeline([\\n    ('hogify', HogTransformer(pixels_per_cell=(8,8),\\n                        cells_per_block=(1,1),\\n                        orientations=9, \\n                        block_norm='L2-Hys')\\n    ),\\n    ('scalify', StandardScaler()),\\n    ('classify', SVC(random_state=42))\\n])\\n\\nparam_grid = [\\n    {'hogify__orientations': [9],\\n    'hogify__cells_per_block': [(3,3)],\\n    'hogify__pixels_per_cell': [(18,18)],\\n    'classify__C': [8e-4, 9e-4, 1e-3, 1.5e-3],\\n    'classify__kernel': ['rbf','linear']\\n    }\\n]\\n\\n\\ngrid_search = GridSearchCV(SVCpipeline,\\n                          param_grid,\\n                          cv=3,\\n                          n_jobs=-1,\\n                           scoring='recall',\\n                           verbose=1,\\n                           return_train_score=True)\\n\\ngrid_res = grid_search.fit(Xspiral, yspiral)\\n\\nprint(grid_res.best_estimator_)\\nprint(grid_res.best_score_)\\n\""
      ]
     },
     "execution_count": 9,
     "metadata": {},
     "output_type": "execute_result"
    }
   ],
   "source": [
    "'''\n",
    "\n",
    "\n",
    "\n",
    "SVCpipeline = Pipeline([\n",
    "    ('hogify', HogTransformer(pixels_per_cell=(8,8),\n",
    "                        cells_per_block=(1,1),\n",
    "                        orientations=9, \n",
    "                        block_norm='L2-Hys')\n",
    "    ),\n",
    "    ('scalify', StandardScaler()),\n",
    "    ('classify', SVC(random_state=42))\n",
    "])\n",
    "\n",
    "param_grid = [\n",
    "    {'hogify__orientations': [9],\n",
    "    'hogify__cells_per_block': [(3,3)],\n",
    "    'hogify__pixels_per_cell': [(18,18)],\n",
    "    'classify__C': [8e-4, 9e-4, 1e-3, 1.5e-3],\n",
    "    'classify__kernel': ['rbf','linear']\n",
    "    }\n",
    "]\n",
    "\n",
    "\n",
    "grid_search = GridSearchCV(SVCpipeline,\n",
    "                          param_grid,\n",
    "                          cv=3,\n",
    "                          n_jobs=-1,\n",
    "                           scoring='recall',\n",
    "                           verbose=1,\n",
    "                           return_train_score=True)\n",
    "\n",
    "grid_res = grid_search.fit(Xspiral, yspiral)\n",
    "\n",
    "print(grid_res.best_estimator_)\n",
    "print(grid_res.best_score_)\n",
    "'''"
   ]
  },
  {
   "cell_type": "code",
   "execution_count": null,
   "metadata": {},
   "outputs": [],
   "source": []
  },
  {
   "cell_type": "code",
   "execution_count": null,
   "metadata": {},
   "outputs": [],
   "source": []
  },
  {
   "cell_type": "code",
   "execution_count": null,
   "metadata": {},
   "outputs": [],
   "source": []
  },
  {
   "cell_type": "code",
   "execution_count": 89,
   "metadata": {},
   "outputs": [
    {
     "name": "stdout",
     "output_type": "stream",
     "text": [
      "[1, 1, 1, 1, 1, 1, 1, 1, 1, 1, 1, 1, 1, 1, 1, 0, 0, 0, 0, 0, 0, 0, 0, 0, 0, 0, 0, 0, 0, 0]\n",
      "[0 0 0 0 0 1 1 1 1 1 1 1 1 1 1 1 0 0 0 0 0 0 0 0 1 0 1 0 0 0]\n",
      "[False False False False False  True  True  True  True  True  True  True\n",
      "  True  True  True False  True  True  True  True  True  True  True  True\n",
      " False  True False  True  True  True]\n",
      "Accuracy:  0.7333333333333333\n",
      "Recall:  0.6666666666666666\n",
      "precision : 0.7692307692307693\n",
      "f1:  0.7142857142857142\n"
     ]
    }
   ],
   "source": [
    "\n",
    "SVCpipeline = Pipeline([\n",
    "    ('hogify', HogTransformer()\n",
    "    ),\n",
    "    ('scalify', StandardScaler()),\n",
    "    ('classify', SVC(random_state=42))\n",
    "])\n",
    "\n",
    "clf = SVCpipeline.fit(Xspiral, yspiral)\n",
    "\n",
    "Xspiraltest, yspiraltest = extractXy(spiral_testing)\n",
    "yspiraltest = [1 if (x == 'H' or x == 1) else 0 for x in yspiraltest]\n",
    "print(yspiraltest)\n",
    "\n",
    "yspiralpred = clf.predict(Xspiraltest)\n",
    "print(yspiralpred)\n",
    "\n",
    "\n",
    "print(np.array(yspiralpred == yspiraltest))\n",
    "print('Accuracy: ', np.sum(yspiralpred == yspiraltest)/len(yspiraltest))\n",
    "print('Recall: ', recall_score(yspiraltest, yspiralpred))\n",
    "\n",
    "\n",
    "confusion_spiral = confusion_matrix(yspiraltest, yspiralpred)\n",
    "df = pd.DataFrame(confusion_spiral)\n",
    "df\n",
    "\n",
    "(tn, fp, fn, tp) = confusion_spiral.flatten()\n",
    "print(\"precision :\", tp / float((tp + fp)))\n",
    "print(\"f1: \", f1_score(yspiraltest, yspiralpred))"
   ]
  },
  {
   "cell_type": "code",
   "execution_count": 88,
   "metadata": {},
   "outputs": [
    {
     "name": "stdout",
     "output_type": "stream",
     "text": [
      "[False False False  True  True  True  True  True  True  True  True  True\n",
      "  True  True  True False  True  True  True False  True  True  True  True\n",
      "  True  True False  True  True  True]\n",
      "Accuracy:  0.8\n",
      "Recall:  0.8\n",
      "precision : 0.8\n",
      "f1:  0.8000000000000002\n"
     ]
    }
   ],
   "source": [
    "SVCpipelineOptimized = Pipeline([\n",
    "    ('hogify', HogTransformer(pixels_per_cell=(18,18),\n",
    "                        cells_per_block=(3,3),\n",
    "                        orientations=9, \n",
    "                        block_norm='L2-Hys')\n",
    "    ),\n",
    "    ('scalify', StandardScaler()),\n",
    "    ('classify', SVC(random_state=42,  C = 0.0008, kernel = 'linear'))\n",
    "])\n",
    "\n",
    "op_clf = SVCpipelineOptimized.fit(Xspiral, yspiral)\n",
    "\n",
    "yspiraltest = [1 if (x == 'H' or x == 1) else 0 for x in yspiraltest]\n",
    "\n",
    "yspiralpred = op_clf.predict(Xspiraltest)\n",
    "\n",
    "\n",
    "print(np.array(yspiralpred == yspiraltest))\n",
    "print('Accuracy: ', np.sum(yspiralpred == yspiraltest)/len(yspiraltest))\n",
    "print('Recall: ', recall_score(yspiraltest, yspiralpred))\n",
    "\n",
    "confusion_spiral = confusion_matrix(yspiraltest, yspiralpred)\n",
    "df = pd.DataFrame(confusion_spiral)\n",
    "df\n",
    "\n",
    "(tn, fp, fn, tp) = confusion_spiral.flatten()\n",
    "print(\"precision :\", tp / float((tp + fp)))\n",
    "print(\"f1: \", f1_score(yspiraltest, yspiralpred))"
   ]
  },
  {
   "cell_type": "code",
   "execution_count": 94,
   "metadata": {
    "scrolled": true
   },
   "outputs": [
    {
     "name": "stdout",
     "output_type": "stream",
     "text": [
      "Model: \"sequential_3\"\n",
      "_________________________________________________________________\n",
      "Layer (type)                 Output Shape              Param #   \n",
      "=================================================================\n",
      "conv2d_5 (Conv2D)            (None, 252, 252, 32)      832       \n",
      "_________________________________________________________________\n",
      "max_pooling2d_5 (MaxPooling2 (None, 126, 126, 32)      0         \n",
      "_________________________________________________________________\n",
      "conv2d_6 (Conv2D)            (None, 124, 124, 64)      18496     \n",
      "_________________________________________________________________\n",
      "max_pooling2d_6 (MaxPooling2 (None, 62, 62, 64)        0         \n",
      "_________________________________________________________________\n",
      "flatten_3 (Flatten)          (None, 246016)            0         \n",
      "_________________________________________________________________\n",
      "dense_7 (Dense)              (None, 256)               62980352  \n",
      "_________________________________________________________________\n",
      "dropout_5 (Dropout)          (None, 256)               0         \n",
      "_________________________________________________________________\n",
      "dense_8 (Dense)              (None, 64)                16448     \n",
      "_________________________________________________________________\n",
      "dropout_6 (Dropout)          (None, 64)                0         \n",
      "_________________________________________________________________\n",
      "dense_9 (Dense)              (None, 1)                 65        \n",
      "=================================================================\n",
      "Total params: 63,016,193\n",
      "Trainable params: 63,016,193\n",
      "Non-trainable params: 0\n",
      "_________________________________________________________________\n"
     ]
    }
   ],
   "source": [
    "from keras import layers\n",
    "from keras import models\n",
    "import keras_metrics\n",
    "\n",
    "model = models.Sequential()\n",
    "model.add(layers.Conv2D(32,(5,5),activation='relu',\n",
    "                       input_shape=(256,256,1)))\n",
    "model.add(layers.MaxPooling2D((2,2)))\n",
    "model.add(layers.Conv2D(64, (3, 3), activation='relu'))\n",
    "model.add(layers.MaxPooling2D((2, 2)))\n",
    "model.add(layers.Flatten())\n",
    "model.add(layers.Dense(units=256, activation='relu'))\n",
    "model.add(layers.Dropout(0.5))\n",
    "model.add(layers.Dense(units=64, activation='relu'))\n",
    "model.add(layers.Dropout(0.5))\n",
    "model.add(layers.Dense(units=1, activation='sigmoid'))\n",
    "model.summary()"
   ]
  },
  {
   "cell_type": "code",
   "execution_count": 95,
   "metadata": {
    "scrolled": true
   },
   "outputs": [
    {
     "name": "stdout",
     "output_type": "stream",
     "text": [
      "Epoch 1/42\n",
      "72/72 [==============================] - 7s 100ms/step - loss: 9.3639 - accuracy: 0.5000\n",
      "Epoch 2/42\n",
      "72/72 [==============================] - 5s 76ms/step - loss: 2.7756 - accuracy: 0.5556\n",
      "Epoch 3/42\n",
      "72/72 [==============================] - 5s 73ms/step - loss: 0.6946 - accuracy: 0.4583\n",
      "Epoch 4/42\n",
      "72/72 [==============================] - 6s 78ms/step - loss: 0.7221 - accuracy: 0.4583\n",
      "Epoch 5/42\n",
      "72/72 [==============================] - 5s 76ms/step - loss: 0.6918 - accuracy: 0.5278\n",
      "Epoch 6/42\n",
      "72/72 [==============================] - 6s 78ms/step - loss: 0.6829 - accuracy: 0.6250\n",
      "Epoch 7/42\n",
      "72/72 [==============================] - 6s 82ms/step - loss: 0.8089 - accuracy: 0.4444\n",
      "Epoch 8/42\n",
      "72/72 [==============================] - 5s 76ms/step - loss: 0.6858 - accuracy: 0.5417\n",
      "Epoch 9/42\n",
      "72/72 [==============================] - 5s 75ms/step - loss: 1.1935 - accuracy: 0.5139\n",
      "Epoch 10/42\n",
      "72/72 [==============================] - 6s 78ms/step - loss: 0.7089 - accuracy: 0.5972\n",
      "Epoch 11/42\n",
      "72/72 [==============================] - 5s 75ms/step - loss: 0.9421 - accuracy: 0.5000\n",
      "Epoch 12/42\n",
      "72/72 [==============================] - 6s 77ms/step - loss: 0.6886 - accuracy: 0.5694\n",
      "Epoch 13/42\n",
      "72/72 [==============================] - 6s 79ms/step - loss: 0.6829 - accuracy: 0.6111\n",
      "Epoch 14/42\n",
      "72/72 [==============================] - 6s 82ms/step - loss: 1.8410 - accuracy: 0.4028\n",
      "Epoch 15/42\n",
      "72/72 [==============================] - 6s 80ms/step - loss: 0.8298 - accuracy: 0.5556\n",
      "Epoch 16/42\n",
      "72/72 [==============================] - 6s 83ms/step - loss: 0.6301 - accuracy: 0.7083\n",
      "Epoch 17/42\n",
      "72/72 [==============================] - 6s 85ms/step - loss: 0.7901 - accuracy: 0.6667\n",
      "Epoch 18/42\n",
      "72/72 [==============================] - 6s 83ms/step - loss: 0.7884 - accuracy: 0.4861\n",
      "Epoch 19/42\n",
      "72/72 [==============================] - 6s 81ms/step - loss: 0.8706 - accuracy: 0.5556\n",
      "Epoch 20/42\n",
      "72/72 [==============================] - 6s 84ms/step - loss: 0.6763 - accuracy: 0.6667\n",
      "Epoch 21/42\n",
      "72/72 [==============================] - 6s 81ms/step - loss: 0.6938 - accuracy: 0.6250\n",
      "Epoch 22/42\n",
      "72/72 [==============================] - 6s 85ms/step - loss: 0.8053 - accuracy: 0.6250\n",
      "Epoch 23/42\n",
      "72/72 [==============================] - 5s 73ms/step - loss: 0.5556 - accuracy: 0.7778\n",
      "Epoch 24/42\n",
      "72/72 [==============================] - 5s 74ms/step - loss: 2.7430 - accuracy: 0.5417\n",
      "Epoch 25/42\n",
      "72/72 [==============================] - 5s 74ms/step - loss: 0.8257 - accuracy: 0.6667\n",
      "Epoch 26/42\n",
      "72/72 [==============================] - 5s 72ms/step - loss: 0.6813 - accuracy: 0.6806\n",
      "Epoch 27/42\n",
      "72/72 [==============================] - 5s 76ms/step - loss: 0.5356 - accuracy: 0.7222\n",
      "Epoch 28/42\n",
      "72/72 [==============================] - 7s 92ms/step - loss: 0.6859 - accuracy: 0.7083\n",
      "Epoch 29/42\n",
      "72/72 [==============================] - 6s 78ms/step - loss: 0.5080 - accuracy: 0.7361\n",
      "Epoch 30/42\n",
      "72/72 [==============================] - 7s 99ms/step - loss: 0.4937 - accuracy: 0.9028\n",
      "Epoch 31/42\n",
      "72/72 [==============================] - 7s 98ms/step - loss: 0.5560 - accuracy: 0.7361\n",
      "Epoch 32/42\n",
      "72/72 [==============================] - 6s 83ms/step - loss: 0.5718 - accuracy: 0.7639\n",
      "Epoch 33/42\n",
      "72/72 [==============================] - 6s 82ms/step - loss: 0.3573 - accuracy: 0.8611\n",
      "Epoch 34/42\n",
      "72/72 [==============================] - 6s 88ms/step - loss: 0.3639 - accuracy: 0.8472\n",
      "Epoch 35/42\n",
      "72/72 [==============================] - 6s 79ms/step - loss: 0.2366 - accuracy: 0.9167\n",
      "Epoch 36/42\n",
      "72/72 [==============================] - 5s 74ms/step - loss: 0.1663 - accuracy: 0.9444\n",
      "Epoch 37/42\n",
      "72/72 [==============================] - 6s 81ms/step - loss: 0.1530 - accuracy: 0.9583\n",
      "Epoch 38/42\n",
      "72/72 [==============================] - 6s 80ms/step - loss: 0.1580 - accuracy: 0.9583\n",
      "Epoch 39/42\n",
      "72/72 [==============================] - 6s 77ms/step - loss: 0.1977 - accuracy: 0.9444\n",
      "Epoch 40/42\n",
      "72/72 [==============================] - 6s 86ms/step - loss: 4.0919 - accuracy: 0.5000\n",
      "Epoch 41/42\n",
      "72/72 [==============================] - 6s 79ms/step - loss: 0.4061 - accuracy: 0.8194\n",
      "Epoch 42/42\n",
      "72/72 [==============================] - 6s 78ms/step - loss: 0.3213 - accuracy: 0.8194\n"
     ]
    },
    {
     "data": {
      "text/plain": [
       "<keras.callbacks.callbacks.History at 0x1ab22843148>"
      ]
     },
     "execution_count": 95,
     "metadata": {},
     "output_type": "execute_result"
    }
   ],
   "source": [
    "\n",
    "from keras.utils import to_categorical\n",
    "\n",
    "model.compile(loss='binary_crossentropy',\n",
    "             optimizer='rmsprop',\n",
    "             metrics=['accuracy'])\n",
    "\n",
    "\n",
    "\n",
    "Xspiral, yspiral = extractXy(spiral_training)\n",
    "\n",
    "Xspiraltest, yspiraltest = extractXy(spiral_testing)\n",
    "\n",
    "Xspiral = Xspiral.reshape(72, 256, 256, 1)\n",
    "Xspiral = Xspiral.astype('float32') / 255\n",
    "\n",
    "yspiral = [1 if (x == 'H' or x == 1) else 0 for x in yspiral]\n",
    "\n",
    "\n",
    "\n",
    "model.fit(Xspiral, yspiral,\n",
    "         epochs=42,\n",
    "         verbose=1\n",
    "         )\n"
   ]
  },
  {
   "cell_type": "code",
   "execution_count": 96,
   "metadata": {
    "scrolled": true
   },
   "outputs": [
    {
     "name": "stdout",
     "output_type": "stream",
     "text": [
      "[1, 1, 1, 1, 1, 1, 1, 1, 1, 1, 1, 1, 1, 1, 1, 0, 0, 0, 0, 0, 0, 0, 0, 0, 0, 0, 0, 0, 0, 0]\n",
      "30/30 [==============================] - 1s 22ms/step\n",
      "91.51362609863281\n",
      "0.7666666507720947\n",
      "[[1]\n",
      " [0]\n",
      " [0]\n",
      " [1]\n",
      " [0]\n",
      " [0]\n",
      " [1]\n",
      " [1]\n",
      " [0]\n",
      " [1]\n",
      " [0]\n",
      " [1]\n",
      " [1]\n",
      " [1]\n",
      " [1]\n",
      " [0]\n",
      " [0]\n",
      " [0]\n",
      " [0]\n",
      " [0]\n",
      " [1]\n",
      " [0]\n",
      " [0]\n",
      " [0]\n",
      " [0]\n",
      " [0]\n",
      " [0]\n",
      " [0]\n",
      " [0]\n",
      " [0]]\n"
     ]
    }
   ],
   "source": [
    "\n",
    "Xspiraltest = Xspiraltest.reshape(30, 256, 256, 1)\n",
    "yspiraltest = [1 if (x == 'H' or x == 1) else 0 for x in yspiraltest]\n",
    "print(yspiraltest)\n",
    "\n",
    "test_loss, test_acc = model.evaluate(Xspiraltest, yspiraltest)\n",
    "print(test_loss)\n",
    "print(test_acc)\n",
    "\n",
    "pred = model.predict_classes(Xspiraltest)\n",
    "print(pred)\n"
   ]
  },
  {
   "cell_type": "code",
   "execution_count": 99,
   "metadata": {},
   "outputs": [
    {
     "name": "stdout",
     "output_type": "stream",
     "text": [
      "Accuracy:  0.7333333333333333\n",
      "Recall:  0.6666666666666666\n",
      "precision : 0.9\n",
      "f1:  0.7142857142857142\n"
     ]
    }
   ],
   "source": [
    "confusion_spiral = confusion_matrix(yspiraltest, pred)\n",
    "df = pd.DataFrame(confusion_spiral)\n",
    "df\n",
    "print('Accuracy: ', np.sum(yspiralpred == yspiraltest)/len(yspiraltest))\n",
    "print('Recall: ', recall_score(yspiraltest, yspiralpred))\n",
    "(tn, fp, fn, tp) = confusion_spiral.flatten()\n",
    "print(\"precision :\", tp / float((tp + fp)))\n",
    "print(\"f1: \", f1_score(yspiraltest, yspiralpred))\n"
   ]
  },
  {
   "cell_type": "code",
   "execution_count": 100,
   "metadata": {},
   "outputs": [
    {
     "data": {
      "text/html": [
       "<div>\n",
       "<style scoped>\n",
       "    .dataframe tbody tr th:only-of-type {\n",
       "        vertical-align: middle;\n",
       "    }\n",
       "\n",
       "    .dataframe tbody tr th {\n",
       "        vertical-align: top;\n",
       "    }\n",
       "\n",
       "    .dataframe thead th {\n",
       "        text-align: right;\n",
       "    }\n",
       "</style>\n",
       "<table border=\"1\" class=\"dataframe\">\n",
       "  <thead>\n",
       "    <tr style=\"text-align: right;\">\n",
       "      <th></th>\n",
       "      <th>0</th>\n",
       "      <th>1</th>\n",
       "    </tr>\n",
       "  </thead>\n",
       "  <tbody>\n",
       "    <tr>\n",
       "      <td>0</td>\n",
       "      <td>14</td>\n",
       "      <td>1</td>\n",
       "    </tr>\n",
       "    <tr>\n",
       "      <td>1</td>\n",
       "      <td>6</td>\n",
       "      <td>9</td>\n",
       "    </tr>\n",
       "  </tbody>\n",
       "</table>\n",
       "</div>"
      ],
      "text/plain": [
       "    0  1\n",
       "0  14  1\n",
       "1   6  9"
      ]
     },
     "execution_count": 100,
     "metadata": {},
     "output_type": "execute_result"
    }
   ],
   "source": [
    "confusion_spiral = confusion_matrix(yspiraltest, pred)\n",
    "df = pd.DataFrame(confusion_spiral)\n",
    "df"
   ]
  },
  {
   "cell_type": "code",
   "execution_count": null,
   "metadata": {},
   "outputs": [],
   "source": []
  },
  {
   "cell_type": "code",
   "execution_count": 91,
   "metadata": {},
   "outputs": [
    {
     "name": "stdout",
     "output_type": "stream",
     "text": [
      "{'training accuracy': 0.5, 'test accuracy': 0.43333333333333335, 'precision': 0.4375, 'recall': 0.4666666666666667, 'f1': 0.45161290322580644}\n"
     ]
    },
    {
     "data": {
      "image/png": "[encoded data removed]",
      "text/plain": [
       "<Figure size 432x288 with 1 Axes>"
      ]
     },
     "metadata": {
      "needs_background": "light"
     },
     "output_type": "display_data"
    }
   ],
   "source": [
    "SVCProcessing = Pipeline([\n",
    "    ('hogify', HogTransformer(pixels_per_cell=(18,18),\n",
    "                        cells_per_block=(3,3),\n",
    "                        orientations=9, \n",
    "                        block_norm='L2-Hys')\n",
    "    ),\n",
    "    ('scalify', StandardScaler()),\n",
    "])\n",
    "\n",
    "\n",
    "SVCX = SVCProcessing.fit_transform(Xspiral)\n",
    "\n",
    "SVCmodel = SVC(random_state=42,  C = 0.0008, kernel = 'linear')\n",
    "SVCmodel.fit(SVCX, yspiral)\n",
    "random.seed(42)\n",
    "predSVC = SVCmodel.predict(Xspiraltest_prepared)\n",
    "metricsSVC = getMetrics(Xspiral_prepared, yspiral, Xspiraltest_prepared, yspiraltest, SVCmodel)\n",
    "print(metricsSVC)\n",
    "\n",
    "\n",
    "getLearningCurve(SVCmodel, 'SVM Learning Curve', Xspiraltest_prepared, yspiraltest, Xspiral_prepared , yspiral  )"
   ]
  },
  {
   "cell_type": "code",
   "execution_count": null,
   "metadata": {},
   "outputs": [],
   "source": []
  },
  {
   "cell_type": "code",
   "execution_count": 78,
   "metadata": {
    "scrolled": true
   },
   "outputs": [
    {
     "name": "stdout",
     "output_type": "stream",
     "text": [
      "\n",
      "100 estimators\n",
      "-----\n"
     ]
    },
    {
     "data": {
      "image/png": "[encoded data removed]",
      "text/plain": [
       "<Figure size 432x288 with 1 Axes>"
      ]
     },
     "metadata": {
      "needs_background": "light"
     },
     "output_type": "display_data"
    },
    {
     "name": "stdout",
     "output_type": "stream",
     "text": [
      "\n",
      "500 estimators\n",
      "-----\n"
     ]
    },
    {
     "data": {
      "image/png": "[encoded data removed]",
      "text/plain": [
       "<Figure size 432x288 with 1 Axes>"
      ]
     },
     "metadata": {
      "needs_background": "light"
     },
     "output_type": "display_data"
    },
    {
     "name": "stdout",
     "output_type": "stream",
     "text": [
      "\n",
      "1000 estimators\n",
      "-----\n"
     ]
    },
    {
     "data": {
      "image/png": "[encoded data removed]",
      "text/plain": [
       "<Figure size 432x288 with 1 Axes>"
      ]
     },
     "metadata": {
      "needs_background": "light"
     },
     "output_type": "display_data"
    }
   ],
   "source": [
    "from sklearn.ensemble import RandomForestClassifier\n",
    "from sklearn.pipeline import Pipeline\n",
    "\n",
    "\n",
    "ForestProcessing = Pipeline([\n",
    "    ('hog', HogTransformer(pixels_per_cell=(18,18),\n",
    "                            cells_per_block=(3,3),\n",
    "                            orientations=9,\n",
    "                            block_norm='L2-Hys')\n",
    "    ),\n",
    "    ('scale', StandardScaler())\n",
    "])\n",
    "def trainForest(newX, n_estimators):\n",
    "    model = RandomForestClassifier(n_estimators = n_estimators)\n",
    "    model.fit(newX, yspiral)\n",
    "    return model \n",
    "\n",
    "\n",
    "\n",
    "estimators = [100, 500, 1000]\n",
    "#hogged = hogify.fit_transform(Xspiraltest)\n",
    "newX = ForestProcessing.fit_transform(Xspiral)\n",
    "\n",
    "for n in estimators:\n",
    "    model = RandomForestClassifier(n_estimators=n)\n",
    "    model.fit(newX, yspiral)\n",
    "    pred = model.predict(Xspiraltest_prepared)\n",
    "    metrics = getMetrics(Xspiral_prepared, yspiral, Xspiraltest_prepared, yspiraltest, model)\n",
    "    print(\"\\n{x} estimators\\n-----\".format(x=n))\n",
    "    getLearningCurve(model, \"Random forest: {x} estimators\".format(x=n),Xspiraltest_prepared, yspiraltest, Xspiral_prepared, yspiral)\n",
    "    plt.show()   \n"
   ]
  },
  {
   "cell_type": "code",
   "execution_count": null,
   "metadata": {},
   "outputs": [],
   "source": []
  },
  {
   "cell_type": "code",
   "execution_count": 74,
   "metadata": {},
   "outputs": [],
   "source": [
    "def getMetrics(xtrain, ytrain, xtest, ytest, model):\n",
    "    metrics = {}\n",
    "    train_pred = model.predict(xtrain)\n",
    "    cm1 = confusion_matrix(ytrain, train_pred).flatten()\n",
    "    (tn, fp, fn, tp) = cm1\n",
    "\n",
    "    metrics[\"training accuracy\"] = (tp + tn) / float(cm1.sum())\n",
    "\n",
    "    pred = model.predict(xtest)\n",
    "    cm = confusion_matrix(ytest, pred).flatten()\n",
    "    (tn, fp, fn, tp) = cm\n",
    "    \n",
    "\n",
    "    metrics[\"test accuracy\"] = (tp + tn) / float(cm.sum())\n",
    "    metrics[\"precision\"] = tp / float((tp + fp))\n",
    "    metrics[\"recall\"] = tp / float((tp + fn))\n",
    "    metrics[\"f1\"] = f1_score(ytest, pred)\n",
    "\n",
    "    return metrics\n",
    "\n",
    "def getLearningCurve(model, title, xtest, ytest, xtrain, ytrain):\n",
    "    plt.grid()\n",
    "    plt.title(title)\n",
    "\n",
    "    random.seed(42)\n",
    "    random.shuffle(xtrain)\n",
    "    random.seed(42)\n",
    "    random.shuffle(ytrain)\n",
    "    \n",
    "    train_err, test_err = [], []\n",
    "    for m in range(3, len(xtrain)):\n",
    "        model.fit(xtrain[:m], ytrain[:m])\n",
    "        ypred = model.predict(xtrain[:m])\n",
    "        y_test = model.predict(xtest)\n",
    "        test_err.append(mean_squared_error(ytest, y_test))\n",
    "        train_err.append(mean_squared_error(ytrain[:m], ypred))\n",
    "\n",
    "    plt.plot(np.sqrt(train_err), color = 'red', label = 'Train Error')\n",
    "    plt.plot(np.sqrt(test_err), color = 'green', label = 'Test Error')\n",
    "    plt.legend()"
   ]
  },
  {
   "cell_type": "code",
   "execution_count": null,
   "metadata": {},
   "outputs": [],
   "source": []
  }
 ],
 "metadata": {
  "kernelspec": {
   "display_name": "Python 3",
   "language": "python",
   "name": "python3"
  },
  "language_info": {
   "codemirror_mode": {
    "name": "ipython",
    "version": 3
   },
   "file_extension": ".py",
   "mimetype": "text/x-python",
   "name": "python",
   "nbconvert_exporter": "python",
   "pygments_lexer": "ipython3",
   "version": "3.7.4"
  }
 },
 "nbformat": 4,
 "nbformat_minor": 2
}
